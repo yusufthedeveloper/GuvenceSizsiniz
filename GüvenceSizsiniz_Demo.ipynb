{
  "nbformat": 4,
  "nbformat_minor": 0,
  "metadata": {
    "colab": {
      "name": "GüvenceSizsiniz Demo.ipynb",
      "provenance": [],
      "collapsed_sections": [],
      "authorship_tag": "ABX9TyNqAC0q1yLQnGdbn2ekgDtS",
      "include_colab_link": true
    },
    "kernelspec": {
      "name": "python3",
      "display_name": "Python 3"
    },
    "language_info": {
      "name": "python"
    }
  },
  "cells": [
    {
      "cell_type": "markdown",
      "metadata": {
        "id": "view-in-github",
        "colab_type": "text"
      },
      "source": [
        "<a href=\"https://colab.research.google.com/github/yusufthedeveloper/GuvenceSizsiniz/blob/main/G%C3%BCvenceSizsiniz_Demo.ipynb\" target=\"_parent\"><img src=\"https://colab.research.google.com/assets/colab-badge.svg\" alt=\"Open In Colab\"/></a>"
      ]
    },
    {
      "cell_type": "code",
      "source": [
        "%cd /content\n",
        "!rm -f -d -r GuvenceSizsiniz/\n",
        "!git clone https://github.com/yusufthedeveloper/GuvenceSizsiniz.git\n",
        "!pip install -r GuvenceSizsiniz/requirements.txt"
      ],
      "metadata": {
        "colab": {
          "base_uri": "https://localhost:8080/"
        },
        "id": "h4lKAlqsYnn-",
        "outputId": "9889479a-f120-4dfc-cd9a-03f924d32418"
      },
      "execution_count": 19,
      "outputs": [
        {
          "output_type": "stream",
          "name": "stdout",
          "text": [
            "/content\n",
            "Cloning into 'GuvenceSizsiniz'...\n",
            "remote: Enumerating objects: 1907, done.\u001b[K\n",
            "remote: Counting objects: 100% (1907/1907), done.\u001b[K\n",
            "remote: Compressing objects: 100% (1724/1724), done.\u001b[K\n",
            "remote: Total 1907 (delta 177), reused 1884 (delta 164), pack-reused 0\u001b[K\n",
            "Receiving objects: 100% (1907/1907), 20.86 MiB | 9.39 MiB/s, done.\n",
            "Resolving deltas: 100% (177/177), done.\n",
            "Requirement already satisfied: aiohttp==3.8.1 in /usr/local/lib/python3.7/dist-packages (from -r GuvenceSizsiniz/requirements.txt (line 1)) (3.8.1)\n",
            "Requirement already satisfied: aiosignal==1.2.0 in /usr/local/lib/python3.7/dist-packages (from -r GuvenceSizsiniz/requirements.txt (line 2)) (1.2.0)\n",
            "Requirement already satisfied: async-timeout==4.0.2 in /usr/local/lib/python3.7/dist-packages (from -r GuvenceSizsiniz/requirements.txt (line 3)) (4.0.2)\n",
            "Requirement already satisfied: attrs==21.4.0 in /usr/local/lib/python3.7/dist-packages (from -r GuvenceSizsiniz/requirements.txt (line 4)) (21.4.0)\n",
            "Requirement already satisfied: beautifulsoup4==4.11.1 in /usr/local/lib/python3.7/dist-packages (from -r GuvenceSizsiniz/requirements.txt (line 5)) (4.11.1)\n",
            "Requirement already satisfied: bs4==0.0.1 in /usr/local/lib/python3.7/dist-packages (from -r GuvenceSizsiniz/requirements.txt (line 6)) (0.0.1)\n",
            "Requirement already satisfied: certifi==2021.10.8 in /usr/local/lib/python3.7/dist-packages (from -r GuvenceSizsiniz/requirements.txt (line 7)) (2021.10.8)\n",
            "Requirement already satisfied: cffi==1.15.0 in /usr/local/lib/python3.7/dist-packages (from -r GuvenceSizsiniz/requirements.txt (line 8)) (1.15.0)\n",
            "Requirement already satisfied: charset-normalizer==2.0.12 in /usr/local/lib/python3.7/dist-packages (from -r GuvenceSizsiniz/requirements.txt (line 9)) (2.0.12)\n",
            "Requirement already satisfied: click==8.1.3 in /usr/local/lib/python3.7/dist-packages (from -r GuvenceSizsiniz/requirements.txt (line 10)) (8.1.3)\n",
            "Requirement already satisfied: colorama==0.4.4 in /usr/local/lib/python3.7/dist-packages (from -r GuvenceSizsiniz/requirements.txt (line 11)) (0.4.4)\n",
            "Requirement already satisfied: cryptography==37.0.1 in /usr/local/lib/python3.7/dist-packages (from -r GuvenceSizsiniz/requirements.txt (line 12)) (37.0.1)\n",
            "Requirement already satisfied: Flask==2.1.2 in /usr/local/lib/python3.7/dist-packages (from -r GuvenceSizsiniz/requirements.txt (line 13)) (2.1.2)\n",
            "Requirement already satisfied: Flask-SQLAlchemy==2.5.1 in /usr/local/lib/python3.7/dist-packages (from -r GuvenceSizsiniz/requirements.txt (line 14)) (2.5.1)\n",
            "Requirement already satisfied: frozenlist==1.3.0 in /usr/local/lib/python3.7/dist-packages (from -r GuvenceSizsiniz/requirements.txt (line 15)) (1.3.0)\n",
            "Requirement already satisfied: greenlet==1.1.2 in /usr/local/lib/python3.7/dist-packages (from -r GuvenceSizsiniz/requirements.txt (line 16)) (1.1.2)\n",
            "Requirement already satisfied: idna==3.3 in /usr/local/lib/python3.7/dist-packages (from -r GuvenceSizsiniz/requirements.txt (line 17)) (3.3)\n",
            "Requirement already satisfied: itsdangerous==2.1.2 in /usr/local/lib/python3.7/dist-packages (from -r GuvenceSizsiniz/requirements.txt (line 18)) (2.1.2)\n",
            "Requirement already satisfied: Jinja2==3.1.2 in /usr/local/lib/python3.7/dist-packages (from -r GuvenceSizsiniz/requirements.txt (line 19)) (3.1.2)\n",
            "Requirement already satisfied: MarkupSafe==2.1.1 in /usr/local/lib/python3.7/dist-packages (from -r GuvenceSizsiniz/requirements.txt (line 20)) (2.1.1)\n",
            "Requirement already satisfied: multidict==6.0.2 in /usr/local/lib/python3.7/dist-packages (from -r GuvenceSizsiniz/requirements.txt (line 21)) (6.0.2)\n",
            "Requirement already satisfied: pycparser==2.21 in /usr/local/lib/python3.7/dist-packages (from -r GuvenceSizsiniz/requirements.txt (line 22)) (2.21)\n",
            "Requirement already satisfied: PySocks==1.7.1 in /usr/local/lib/python3.7/dist-packages (from -r GuvenceSizsiniz/requirements.txt (line 23)) (1.7.1)\n",
            "Requirement already satisfied: requests==2.27.1 in /usr/local/lib/python3.7/dist-packages (from -r GuvenceSizsiniz/requirements.txt (line 24)) (2.27.1)\n",
            "Requirement already satisfied: soupsieve==2.3.2.post1 in /usr/local/lib/python3.7/dist-packages (from -r GuvenceSizsiniz/requirements.txt (line 25)) (2.3.2.post1)\n",
            "Requirement already satisfied: SQLAlchemy==1.4.36 in /usr/local/lib/python3.7/dist-packages (from -r GuvenceSizsiniz/requirements.txt (line 26)) (1.4.36)\n",
            "Requirement already satisfied: tqdm==4.64.0 in /usr/local/lib/python3.7/dist-packages (from -r GuvenceSizsiniz/requirements.txt (line 27)) (4.64.0)\n",
            "Requirement already satisfied: urllib3==1.26.9 in /usr/local/lib/python3.7/dist-packages (from -r GuvenceSizsiniz/requirements.txt (line 28)) (1.26.9)\n",
            "Requirement already satisfied: Werkzeug==2.1.2 in /usr/local/lib/python3.7/dist-packages (from -r GuvenceSizsiniz/requirements.txt (line 29)) (2.1.2)\n",
            "Requirement already satisfied: yarl==1.7.2 in /usr/local/lib/python3.7/dist-packages (from -r GuvenceSizsiniz/requirements.txt (line 30)) (1.7.2)\n",
            "Requirement already satisfied: zippyshare-downloader==0.3.1 in /usr/local/lib/python3.7/dist-packages (from -r GuvenceSizsiniz/requirements.txt (line 31)) (0.3.1)\n",
            "Requirement already satisfied: gunicorn==20.1.0 in /usr/local/lib/python3.7/dist-packages (from -r GuvenceSizsiniz/requirements.txt (line 32)) (20.1.0)\n",
            "Requirement already satisfied: psycopg2-binary==2.9.3 in /usr/local/lib/python3.7/dist-packages (from -r GuvenceSizsiniz/requirements.txt (line 33)) (2.9.3)\n",
            "Requirement already satisfied: Flask-Migrate==3.1.0 in /usr/local/lib/python3.7/dist-packages (from -r GuvenceSizsiniz/requirements.txt (line 34)) (3.1.0)\n",
            "Requirement already satisfied: flask-ngrok==0.0.25 in /usr/local/lib/python3.7/dist-packages (from -r GuvenceSizsiniz/requirements.txt (line 35)) (0.0.25)\n",
            "Requirement already satisfied: typing-extensions>=3.7.4 in /usr/local/lib/python3.7/dist-packages (from aiohttp==3.8.1->-r GuvenceSizsiniz/requirements.txt (line 1)) (4.2.0)\n",
            "Requirement already satisfied: asynctest==0.13.0 in /usr/local/lib/python3.7/dist-packages (from aiohttp==3.8.1->-r GuvenceSizsiniz/requirements.txt (line 1)) (0.13.0)\n",
            "Requirement already satisfied: importlib-metadata in /usr/local/lib/python3.7/dist-packages (from click==8.1.3->-r GuvenceSizsiniz/requirements.txt (line 10)) (4.11.3)\n",
            "Requirement already satisfied: setuptools>=3.0 in /usr/local/lib/python3.7/dist-packages (from gunicorn==20.1.0->-r GuvenceSizsiniz/requirements.txt (line 32)) (57.4.0)\n",
            "Requirement already satisfied: alembic>=0.7 in /usr/local/lib/python3.7/dist-packages (from Flask-Migrate==3.1.0->-r GuvenceSizsiniz/requirements.txt (line 34)) (1.7.7)\n",
            "Requirement already satisfied: Mako in /usr/local/lib/python3.7/dist-packages (from alembic>=0.7->Flask-Migrate==3.1.0->-r GuvenceSizsiniz/requirements.txt (line 34)) (1.2.0)\n",
            "Requirement already satisfied: importlib-resources in /usr/local/lib/python3.7/dist-packages (from alembic>=0.7->Flask-Migrate==3.1.0->-r GuvenceSizsiniz/requirements.txt (line 34)) (5.7.1)\n",
            "Requirement already satisfied: zipp>=0.5 in /usr/local/lib/python3.7/dist-packages (from importlib-metadata->click==8.1.3->-r GuvenceSizsiniz/requirements.txt (line 10)) (3.8.0)\n"
          ]
        }
      ]
    },
    {
      "cell_type": "code",
      "source": [
        "%cd /content\n",
        "!rm ngrok-stable-linux-amd64.tgz\n",
        "!wget https://bin.equinox.io/c/4VmDzA7iaHb/ngrok-stable-linux-amd64.tgz\n",
        "!tar -xvf /content/ngrok-stable-linux-amd64.tgz\n",
        "!./ngrok authtoken tokeniniz"
      ],
      "metadata": {
        "id": "4ODJQThNdvjL",
        "colab": {
          "base_uri": "https://localhost:8080/"
        },
        "outputId": "0f4c4536-dd0c-4210-e01c-2f1fe01fc952"
      },
      "execution_count": 20,
      "outputs": [
        {
          "output_type": "stream",
          "name": "stdout",
          "text": [
            "/content\n",
            "--2022-05-10 10:42:39--  https://bin.equinox.io/c/4VmDzA7iaHb/ngrok-stable-linux-amd64.tgz\n",
            "Resolving bin.equinox.io (bin.equinox.io)... 54.237.133.81, 54.161.241.46, 18.205.222.128, ...\n",
            "Connecting to bin.equinox.io (bin.equinox.io)|54.237.133.81|:443... connected.\n",
            "HTTP request sent, awaiting response... 200 OK\n",
            "Length: 13770165 (13M) [application/octet-stream]\n",
            "Saving to: ‘ngrok-stable-linux-amd64.tgz’\n",
            "\n",
            "ngrok-stable-linux- 100%[===================>]  13.13M  6.58MB/s    in 2.0s    \n",
            "\n",
            "2022-05-10 10:42:42 (6.58 MB/s) - ‘ngrok-stable-linux-amd64.tgz’ saved [13770165/13770165]\n",
            "\n",
            "ngrok\n",
            "Authtoken saved to configuration file: /root/.ngrok2/ngrok.yml\n"
          ]
        }
      ]
    },
    {
      "cell_type": "code",
      "source": [
        "%cd /content/GuvenceSizsiniz\n",
        "!python3 app.py"
      ],
      "metadata": {
        "colab": {
          "base_uri": "https://localhost:8080/"
        },
        "id": "B_SWse1SZuCA",
        "outputId": "541c7948-1aeb-4946-f44c-78e410973d46"
      },
      "execution_count": 21,
      "outputs": [
        {
          "output_type": "stream",
          "name": "stdout",
          "text": [
            "/content/GuvenceSizsiniz\n",
            "/usr/local/lib/python3.7/dist-packages/flask_sqlalchemy/__init__.py:873: FSADeprecationWarning: SQLALCHEMY_TRACK_MODIFICATIONS adds significant overhead and will be disabled by default in the future.  Set it to True or False to suppress this warning.\n",
            "  'SQLALCHEMY_TRACK_MODIFICATIONS adds significant overhead and '\n",
            " * Serving Flask app 'app' (lazy loading)\n",
            " * Environment: production\n",
            "\u001b[31m   WARNING: This is a development server. Do not use it in a production deployment.\u001b[0m\n",
            "\u001b[2m   Use a production WSGI server instead.\u001b[0m\n",
            " * Debug mode: off\n",
            " * Running on http://127.0.0.1:5000 (Press CTRL+C to quit)\n",
            " * Running on http://bd9f-34-80-68-76.ngrok.io\n",
            " * Traffic stats available on http://127.0.0.1:4040\n",
            "127.0.0.1 - - [10/May/2022 10:42:56] \"\u001b[32mGET / HTTP/1.1\u001b[0m\" 302 -\n",
            "127.0.0.1 - - [10/May/2022 10:42:57] \"GET /setup HTTP/1.1\" 200 -\n",
            "127.0.0.1 - - [10/May/2022 10:42:57] \"GET /static/css/bootstrap.min.css HTTP/1.1\" 200 -\n",
            "127.0.0.1 - - [10/May/2022 10:42:57] \"GET /static/css/signin.css HTTP/1.1\" 200 -\n",
            "127.0.0.1 - - [10/May/2022 10:42:57] \"GET /static/js/bootstrap.min.js HTTP/1.1\" 200 -\n",
            "127.0.0.1 - - [10/May/2022 10:42:57] \"GET /static/js/jquery-3.6.0.min.js HTTP/1.1\" 200 -\n",
            "127.0.0.1 - - [10/May/2022 10:42:59] \"\u001b[33mGET /favicon.ico HTTP/1.1\u001b[0m\" 404 -\n",
            "127.0.0.1 - - [10/May/2022 10:43:02] \"POST /setup HTTP/1.1\" 200 -\n",
            "127.0.0.1 - - [10/May/2022 10:43:50] \"\u001b[32mGET / HTTP/1.1\u001b[0m\" 302 -\n",
            "127.0.0.1 - - [10/May/2022 10:43:50] \"\u001b[32mGET /setup HTTP/1.1\u001b[0m\" 302 -\n",
            "127.0.0.1 - - [10/May/2022 10:43:51] \"GET /login HTTP/1.1\" 200 -\n",
            "127.0.0.1 - - [10/May/2022 10:43:51] \"\u001b[36mGET /static/css/bootstrap.min.css HTTP/1.1\u001b[0m\" 304 -\n",
            "127.0.0.1 - - [10/May/2022 10:43:51] \"\u001b[36mGET /static/css/signin.css HTTP/1.1\u001b[0m\" 304 -\n",
            "127.0.0.1 - - [10/May/2022 10:43:51] \"\u001b[36mGET /static/js/jquery-3.6.0.min.js HTTP/1.1\u001b[0m\" 304 -\n",
            "127.0.0.1 - - [10/May/2022 10:43:51] \"\u001b[36mGET /static/js/bootstrap.min.js HTTP/1.1\u001b[0m\" 304 -\n",
            "127.0.0.1 - - [10/May/2022 10:43:55] \"\u001b[32mPOST /login HTTP/1.1\u001b[0m\" 302 -\n",
            "127.0.0.1 - - [10/May/2022 10:43:55] \"GET /passwords HTTP/1.1\" 200 -\n",
            "127.0.0.1 - - [10/May/2022 10:43:56] \"\u001b[36mGET /static/js/jquery-3.6.0.min.js HTTP/1.1\u001b[0m\" 304 -\n",
            "127.0.0.1 - - [10/May/2022 10:43:56] \"\u001b[36mGET /static/css/bootstrap.min.css HTTP/1.1\u001b[0m\" 304 -\n",
            "127.0.0.1 - - [10/May/2022 10:43:56] \"\u001b[36mGET /static/js/bootstrap.min.js HTTP/1.1\u001b[0m\" 304 -\n",
            "127.0.0.1 - - [10/May/2022 10:43:58] \"GET /files HTTP/1.1\" 200 -\n",
            "127.0.0.1 - - [10/May/2022 10:43:58] \"\u001b[36mGET /static/css/bootstrap.min.css HTTP/1.1\u001b[0m\" 304 -\n",
            "127.0.0.1 - - [10/May/2022 10:43:58] \"\u001b[36mGET /static/js/bootstrap.min.js HTTP/1.1\u001b[0m\" 304 -\n",
            "127.0.0.1 - - [10/May/2022 10:43:58] \"\u001b[36mGET /static/js/jquery-3.6.0.min.js HTTP/1.1\u001b[0m\" 304 -\n",
            "Alan_Walker___Ava_Max_-_Alone__Pt._IIMP3_128K.mp3.lck\n",
            "127.0.0.1 - - [10/May/2022 10:44:11] \"\u001b[32mPOST /upload HTTP/1.1\u001b[0m\" 302 -\n",
            "127.0.0.1 - - [10/May/2022 10:44:11] \"GET /files HTTP/1.1\" 200 -\n",
            "127.0.0.1 - - [10/May/2022 10:44:12] \"\u001b[36mGET /static/js/jquery-3.6.0.min.js HTTP/1.1\u001b[0m\" 304 -\n",
            "127.0.0.1 - - [10/May/2022 10:44:12] \"\u001b[36mGET /static/js/bootstrap.min.js HTTP/1.1\u001b[0m\" 304 -\n",
            "127.0.0.1 - - [10/May/2022 10:44:12] \"\u001b[36mGET /static/css/bootstrap.min.css HTTP/1.1\u001b[0m\" 304 -\n"
          ]
        }
      ]
    },
    {
      "cell_type": "code",
      "source": [
        "from google.colab import files\n",
        "files.download('holdup.db')"
      ],
      "metadata": {
        "colab": {
          "base_uri": "https://localhost:8080/",
          "height": 17
        },
        "id": "GJMEdqUTjsnl",
        "outputId": "3c2e9c4f-d5b4-4c80-e84e-76ed479432a8"
      },
      "execution_count": 22,
      "outputs": [
        {
          "output_type": "display_data",
          "data": {
            "text/plain": [
              "<IPython.core.display.Javascript object>"
            ],
            "application/javascript": [
              "\n",
              "    async function download(id, filename, size) {\n",
              "      if (!google.colab.kernel.accessAllowed) {\n",
              "        return;\n",
              "      }\n",
              "      const div = document.createElement('div');\n",
              "      const label = document.createElement('label');\n",
              "      label.textContent = `Downloading \"${filename}\": `;\n",
              "      div.appendChild(label);\n",
              "      const progress = document.createElement('progress');\n",
              "      progress.max = size;\n",
              "      div.appendChild(progress);\n",
              "      document.body.appendChild(div);\n",
              "\n",
              "      const buffers = [];\n",
              "      let downloaded = 0;\n",
              "\n",
              "      const channel = await google.colab.kernel.comms.open(id);\n",
              "      // Send a message to notify the kernel that we're ready.\n",
              "      channel.send({})\n",
              "\n",
              "      for await (const message of channel.messages) {\n",
              "        // Send a message to notify the kernel that we're ready.\n",
              "        channel.send({})\n",
              "        if (message.buffers) {\n",
              "          for (const buffer of message.buffers) {\n",
              "            buffers.push(buffer);\n",
              "            downloaded += buffer.byteLength;\n",
              "            progress.value = downloaded;\n",
              "          }\n",
              "        }\n",
              "      }\n",
              "      const blob = new Blob(buffers, {type: 'application/binary'});\n",
              "      const a = document.createElement('a');\n",
              "      a.href = window.URL.createObjectURL(blob);\n",
              "      a.download = filename;\n",
              "      div.appendChild(a);\n",
              "      a.click();\n",
              "      div.remove();\n",
              "    }\n",
              "  "
            ]
          },
          "metadata": {}
        },
        {
          "output_type": "display_data",
          "data": {
            "text/plain": [
              "<IPython.core.display.Javascript object>"
            ],
            "application/javascript": [
              "download(\"download_f8d61cf7-e218-4e27-b91d-e52e2ee91f82\", \"holdup.db\", 16384)"
            ]
          },
          "metadata": {}
        }
      ]
    }
  ]
}